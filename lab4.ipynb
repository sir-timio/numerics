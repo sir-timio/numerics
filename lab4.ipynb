{
 "cells": [
  {
   "cell_type": "code",
   "execution_count": 1,
   "id": "f65c3a5d",
   "metadata": {},
   "outputs": [],
   "source": [
    "import cv2\n",
    "import matplotlib.pyplot as plt\n",
    "import numpy as np\n",
    "import pandas as pd\n",
    "from tqdm.notebook import tqdm_notebook as tqdm\n",
    "\n",
    "import torch\n",
    "import torchvision\n",
    "from torchvision import datasets\n",
    "from torchvision.transforms import ToTensor, Normalize\n",
    "from torch.utils.data import DataLoader, Subset\n",
    "from copy import deepcopy\n",
    "import json\n",
    "from itertools import product"
   ]
  },
  {
   "cell_type": "code",
   "execution_count": 2,
   "id": "ad1969fe",
   "metadata": {},
   "outputs": [],
   "source": [
    "def imshow(image, label=None, figsize=(4,4), cmap='gray', **kwargs):\n",
    "    plt.figure(figsize=figsize)\n",
    "    if label is not None:\n",
    "        print(label)\n",
    "    plt.imshow(image, **kwargs, cmap=cmap)\n",
    "    plt.show()"
   ]
  },
  {
   "cell_type": "code",
   "execution_count": 3,
   "id": "b334a7a8",
   "metadata": {},
   "outputs": [],
   "source": [
    "class Flatten:\n",
    "    def __call__(self, img):\n",
    "        return img.flatten()"
   ]
  },
  {
   "cell_type": "code",
   "execution_count": 4,
   "id": "80f36c6d",
   "metadata": {},
   "outputs": [],
   "source": [
    "from PIL import Image\n",
    "class Resize:\n",
    "    def __init__(self, height, width):\n",
    "        self.height = height\n",
    "        self.width = width\n",
    "\n",
    "    def __call__(self, img):\n",
    "        return img.resize((self.width, self.height), Image.BICUBIC)"
   ]
  },
  {
   "cell_type": "markdown",
   "id": "c0b5ed96",
   "metadata": {},
   "source": [
    "# Data"
   ]
  },
  {
   "cell_type": "code",
   "execution_count": 5,
   "id": "395d1ca0",
   "metadata": {},
   "outputs": [],
   "source": [
    "N = 14\n",
    "NUM_CLASSES = 10\n",
    "SEED = 42"
   ]
  },
  {
   "cell_type": "code",
   "execution_count": 6,
   "id": "0ac93a11",
   "metadata": {},
   "outputs": [],
   "source": [
    "transforms = torchvision.transforms.Compose([\n",
    "    Resize(N, N),\n",
    "    ToTensor(),\n",
    "    Normalize((0.1307,), (0.3081,)),\n",
    "    Flatten(),\n",
    "])"
   ]
  },
  {
   "cell_type": "code",
   "execution_count": 7,
   "id": "62a66c23",
   "metadata": {},
   "outputs": [],
   "source": [
    "train_dataset = datasets.MNIST(root='../data', train=True, download=False, transform=transforms)\n",
    "train_loader = DataLoader(train_dataset, batch_size=1, shuffle=True)"
   ]
  },
  {
   "cell_type": "code",
   "execution_count": 8,
   "id": "7b50c49b",
   "metadata": {},
   "outputs": [],
   "source": [
    "test_dataset = datasets.MNIST(root='../data', train=False, download=False, transform=transforms)\n",
    "test_loader = DataLoader(test_dataset, batch_size=1, shuffle=False)"
   ]
  },
  {
   "cell_type": "code",
   "execution_count": 9,
   "id": "2330862d",
   "metadata": {},
   "outputs": [
    {
     "name": "stdout",
     "output_type": "stream",
     "text": [
      "7\n"
     ]
    },
    {
     "data": {
      "image/png": "[encoded data removed]",
      "text/plain": [
       "<Figure size 288x288 with 1 Axes>"
      ]
     },
     "metadata": {
      "needs_background": "light"
     },
     "output_type": "display_data"
    }
   ],
   "source": [
    "for img, label in test_loader: break\n",
    "imshow(img[0].reshape(N, N), label=label[0].item())"
   ]
  },
  {
   "cell_type": "code",
   "execution_count": 10,
   "id": "a01977ac",
   "metadata": {},
   "outputs": [],
   "source": [
    "def loader_to_mat(loader, size):\n",
    "    X = []\n",
    "    y = []\n",
    "    i = 0\n",
    "    for b in loader:\n",
    "        i+=1\n",
    "        X.append(b[0].flatten())\n",
    "        y.append(b[1].flatten())\n",
    "        if i == size:\n",
    "            break\n",
    "    return torch.stack(X).numpy(), np.array(y)"
   ]
  },
  {
   "cell_type": "markdown",
   "id": "fb24482b",
   "metadata": {},
   "source": [
    "## K-means "
   ]
  },
  {
   "cell_type": "code",
   "execution_count": 11,
   "id": "0bd155bc",
   "metadata": {},
   "outputs": [],
   "source": [
    "def get_distance(a, b):\n",
    "    return np.sqrt(np.sum((a-b)**2))"
   ]
  },
  {
   "cell_type": "code",
   "execution_count": 12,
   "id": "6be0b7bb",
   "metadata": {},
   "outputs": [],
   "source": [
    "def kmeans(xs, k, max_iters=1000):\n",
    "    conv = False\n",
    "    centroids = xs[np.random.choice(range(len(xs)), size=k, replace=False)]\n",
    "    \n",
    "    it = 0\n",
    "    while (not conv) and it < max_iters:\n",
    "        clusters = [[] for _ in range(len(centroids))]\n",
    "        for x in xs:\n",
    "            min_dist = np.inf\n",
    "            closest_c = -1\n",
    "            for j, c in enumerate(centroids):\n",
    "                dist = get_distance(x, c)\n",
    "                if dist < min_dist:\n",
    "                    min_dist = dist\n",
    "                    closest_c = j\n",
    "            clusters[closest_c].append(x)\n",
    "        clusters = [c for c in clusters if c]\n",
    "        prev_centroids = centroids.copy()\n",
    "        centroids = [np.mean(c, axis=0) for c in clusters]\n",
    "        \n",
    "        conv = len(prev_centroids) == len(centroids) and np.allclose(prev_centroids, centroids)\n",
    "        it += 1\n",
    "\n",
    "    max_d = -1\n",
    "    for i in range(len(centroids)):\n",
    "        for j in range(i, len(centroids)):\n",
    "            max_d = max(get_distance(centroids[i], centroids[j]), max_d)\n",
    "            \n",
    "    return np.array(centroids), [max_d for c in clusters]"
   ]
  },
  {
   "cell_type": "code",
   "execution_count": 13,
   "id": "e46ae8d7",
   "metadata": {},
   "outputs": [],
   "source": [
    "from sklearn.datasets import make_blobs"
   ]
  },
  {
   "cell_type": "code",
   "execution_count": 14,
   "id": "7c0eb057",
   "metadata": {},
   "outputs": [],
   "source": [
    "X, y = make_blobs(n_samples=100, centers=3, n_features=2, random_state=0, cluster_std=0.8)"
   ]
  },
  {
   "cell_type": "code",
   "execution_count": 15,
   "id": "f7f6e34a",
   "metadata": {
    "scrolled": false
   },
   "outputs": [
    {
     "data": {
      "text/plain": [
       "[<matplotlib.lines.Line2D at 0x1b7600590>]"
      ]
     },
     "execution_count": 15,
     "metadata": {},
     "output_type": "execute_result"
    },
    {
     "data": {
      "image/png": "[encoded data removed]",
      "text/plain": [
       "<Figure size 720x720 with 1 Axes>"
      ]
     },
     "metadata": {
      "needs_background": "light"
     },
     "output_type": "display_data"
    }
   ],
   "source": [
    "plt.figure(figsize=(10, 10))\n",
    "plt.plot(X[:, 0], X[:, 1], '.')"
   ]
  },
  {
   "cell_type": "code",
   "execution_count": 16,
   "id": "effcc155",
   "metadata": {},
   "outputs": [],
   "source": [
    "centroids, stds = kmeans(X, 3)"
   ]
  },
  {
   "cell_type": "code",
   "execution_count": 17,
   "id": "87ccf6ca",
   "metadata": {
    "scrolled": false
   },
   "outputs": [
    {
     "data": {
      "text/plain": [
       "<matplotlib.collections.PathCollection at 0x1b767acd0>"
      ]
     },
     "execution_count": 17,
     "metadata": {},
     "output_type": "execute_result"
    },
    {
     "data": {
      "image/png": "[encoded data removed]",
      "text/plain": [
       "<Figure size 720x720 with 1 Axes>"
      ]
     },
     "metadata": {
      "needs_background": "light"
     },
     "output_type": "display_data"
    }
   ],
   "source": [
    "plt.figure(figsize=(10, 10))\n",
    "plt.plot(X[:, 0], X[:, 1], '.')\n",
    "plt.scatter(centroids[:, 0], centroids[:, 1], s=50, color='red')"
   ]
  },
  {
   "cell_type": "code",
   "execution_count": 18,
   "id": "bb5db4ba",
   "metadata": {},
   "outputs": [],
   "source": [
    "def kmeans_fast(xs, k, max_iters):\n",
    "    from sklearn.cluster import KMeans\n",
    "    centroids = KMeans(max_iter=max_iters).fit(xs, k).cluster_centers_\n",
    "\n",
    "    max_d = -1\n",
    "    for i in range(len(centroids)):\n",
    "        for j in range(i, len(centroids)):\n",
    "            max_d = max(get_distance(centroids[i], centroids[j]), max_d)\n",
    "    return np.array(centroids), [max_d for c in centroids]"
   ]
  },
  {
   "cell_type": "markdown",
   "id": "542dc045",
   "metadata": {},
   "source": [
    "# Model "
   ]
  },
  {
   "cell_type": "code",
   "execution_count": 19,
   "id": "6a2df0ae",
   "metadata": {},
   "outputs": [],
   "source": [
    "class RBNFModel():\n",
    "    def __init__(self, n_in, k, n_classes, kmeans_imp=kmeans_fast):\n",
    "        self.n_in = n_in\n",
    "        self.k = k #like hidden\n",
    "        self.n_classes = n_classes\n",
    "        self.kmeans_imp = kmeans_imp\n",
    "        self.centroids = None\n",
    "        self.stds = None\n",
    "        self.W = None\n",
    "\n",
    "    def one_hot(self, label):\n",
    "        return np.eye(self.n_classes)[label]\n",
    "     \n",
    "    def predict(self, X):\n",
    "        assert self.W is not None, 'Not fitted yet'\n",
    "        rbf_X = self.clusterize(X, self.centroids, self.stds)        \n",
    "        out = rbf_X @ self.W\n",
    "        pred = np.argmax(out, axis=1)\n",
    "        return pred\n",
    "\n",
    "    def rbf(self, x, c, s):\n",
    "        return 1 / np.exp(-get_distance(x, c) / s ** 2)\n",
    "\n",
    "    def clusterize(self, X, centroids, stds):\n",
    "        xs_clusters_distrib = []\n",
    "        for x in X:\n",
    "            clusters_distrib = []\n",
    "            for c, s in zip(centroids, stds):\n",
    "                clusters_distrib.append(self.rbf(x, c, s))\n",
    "            xs_clusters_distrib.append(np.array(clusters_distrib))\n",
    "        return np.array(xs_clusters_distrib)\n",
    "    \n",
    "    \n",
    "    def fit(self, X, y):\n",
    "        target = self.one_hot(y)\n",
    "        self.centroids, self.stds = self.kmeans_imp(X, self.k, max_iters=1000)\n",
    "        rbf_X = self.clusterize(X, self.centroids, self.stds)\n",
    "            \n",
    "        self.W = np.linalg.pinv(rbf_X.T @ rbf_X) @ rbf_X.T @ target\n",
    "        \n",
    "        out = rbf_X @ self.W\n",
    "        pred = np.argmax(out, axis=1)\n",
    "        \n",
    "        return sum(pred == y) / len(y)\n",
    "        \n",
    "    def test(self, X, y):\n",
    "        rbf_X = self.clusterize(X, self.centroids, self.stds)\n",
    "        out = rbf_X @ self.W\n",
    "        pred = np.argmax(out, axis=1)\n",
    "        return sum(pred == y) / len(y)\n"
   ]
  },
  {
   "cell_type": "code",
   "execution_count": 20,
   "id": "e24d5064",
   "metadata": {},
   "outputs": [],
   "source": [
    "model = RBNFModel(N*N, 300, NUM_CLASSES)"
   ]
  },
  {
   "cell_type": "code",
   "execution_count": 21,
   "id": "506f2922",
   "metadata": {},
   "outputs": [],
   "source": [
    "TRAIN_SIZE = 100_000\n",
    "TEST_SIZE = 1_00"
   ]
  },
  {
   "cell_type": "code",
   "execution_count": 22,
   "id": "f8790657",
   "metadata": {},
   "outputs": [],
   "source": [
    "X_train, y_train = loader_to_mat(train_loader, TRAIN_SIZE)\n",
    "X_test, y_test = loader_to_mat(test_loader, TEST_SIZE)"
   ]
  },
  {
   "cell_type": "code",
   "execution_count": 23,
   "id": "83205078",
   "metadata": {},
   "outputs": [],
   "source": [
    "from collections import namedtuple\n",
    "Expr = namedtuple('expr', 'k, train_acc, test_acc')"
   ]
  },
  {
   "cell_type": "code",
   "execution_count": null,
   "id": "e7795484",
   "metadata": {},
   "outputs": [
    {
     "name": "stdout",
     "output_type": "stream",
     "text": [
      "k: 10\n",
      "test acc: 0.67\n",
      "--------------------\n",
      "k: 30\n",
      "test acc: 0.67\n",
      "--------------------\n",
      "k: 50\n"
     ]
    }
   ],
   "source": [
    "exprs = []\n",
    "for k in range(10, N*N, 20):\n",
    "    model = RBNFModel(N*N, k, NUM_CLASSES)\n",
    "    print(f'k: {k}')\n",
    "    train_acc = model.fit(X_train, y_train)\n",
    "    test_acc = model.test(X_test, y_test)\n",
    "    exprs.append(Expr(k, train_acc, test_acc))\n",
    "    print(f'test acc: {test_acc}')\n",
    "    print('-' * 20)"
   ]
  },
  {
   "cell_type": "code",
   "execution_count": null,
   "id": "eabe6edd",
   "metadata": {},
   "outputs": [],
   "source": [
    "print('accuracy')\n",
    "print(f'{\"K\":>3}{\"train\":>10}{\"test\":>8}')\n",
    "print('-'*30)\n",
    "for exp in exprs:\n",
    "    print(f'{exp.k:>3}{exp.train_acc:10.3f}{exp.test_acc:>8.3f}')\n"
   ]
  },
  {
   "cell_type": "code",
   "execution_count": null,
   "id": "44383084",
   "metadata": {},
   "outputs": [],
   "source": [
    "y_pred = model.predict(X_test)"
   ]
  },
  {
   "cell_type": "code",
   "execution_count": null,
   "id": "cf428200",
   "metadata": {
    "scrolled": true
   },
   "outputs": [],
   "source": [
    "for img, gt, pred in zip(X_test, y_test, y_pred):\n",
    "    if gt == pred:\n",
    "        continue\n",
    "    imshow(img.reshape(N, N), label=f'gt: {gt}\\npr: {pred}')"
   ]
  }
 ],
 "metadata": {
  "kernelspec": {
   "display_name": "Python 3",
   "language": "python",
   "name": "python3"
  },
  "language_info": {
   "codemirror_mode": {
    "name": "ipython",
    "version": 3
   },
   "file_extension": ".py",
   "mimetype": "text/x-python",
   "name": "python",
   "nbconvert_exporter": "python",
   "pygments_lexer": "ipython3",
   "version": "3.7.10"
  }
 },
 "nbformat": 4,
 "nbformat_minor": 5
}
