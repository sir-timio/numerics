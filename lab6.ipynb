{
 "cells": [
  {
   "cell_type": "markdown",
   "id": "64b384bb",
   "metadata": {},
   "source": [
    "\n",
    "## Ионов Тимур ИУ9-71Б\n",
    "### Лабораторная работа N6 «Изучение сходимости метода Якоби»"
   ]
  },
  {
   "cell_type": "markdown",
   "id": "01c6a657",
   "metadata": {},
   "source": [
    "### Цель работы\n",
    "1. Реализовать метод Якоби.\n",
    "2. Ввести критерий остановки итерационного процесс используя равномерную норму. 3. Проверить решение путем сравнения с решением любым методом Гаусса.\n",
    "4. Проверить выполнение условия диагонального преобладания.\n",
    "5. Используя согласованную векторную и матричную нормы проверить выполнение условиe ||P|| < q < 1"
   ]
  },
  {
   "cell_type": "code",
   "execution_count": 1,
   "id": "056d6f83",
   "metadata": {},
   "outputs": [],
   "source": [
    "import numpy as np\n",
    "from copy import deepcopy"
   ]
  },
  {
   "cell_type": "code",
   "execution_count": 2,
   "id": "6718f6c5",
   "metadata": {},
   "outputs": [],
   "source": [
    "def gen_matrix(n, a=-1, b=1, triag_dom=1):\n",
    "    x = np.random.uniform(a, b, size=(n, n))\n",
    "    if triag_dom > 1:\n",
    "        ids = np.diag_indices(n)\n",
    "        diag = np.sum(np.abs(x), axis=1)\n",
    "        diag *= triag_dom\n",
    "        x[ids] = diag\n",
    "    return x"
   ]
  },
  {
   "cell_type": "code",
   "execution_count": 3,
   "id": "e0b1a7ef",
   "metadata": {},
   "outputs": [],
   "source": [
    "def gauss(a, b, row_opt=False, col_opt=False, both_opt=False):\n",
    "    a = deepcopy(a)\n",
    "    b = deepcopy(b)\n",
    "    n = len(b)\n",
    "    \n",
    "    assert len(a.shape) == 2 and a.shape[0] == a.shape[1]\n",
    "    assert not any(np.diag(a) == 0)\n",
    "    \n",
    "    # forward\n",
    "    order = np.arange(n)\n",
    "    for k in range(n-1):\n",
    "        for i in range(k + 1, n):\n",
    "            if both_opt:\n",
    "                row_max = np.max(np.abs(a[k:, k]))\n",
    "                col_max = np.max(np.abs(a[k, k:]))\n",
    "                if row_max > col_max:\n",
    "                    row_opt = True\n",
    "                    col_opt = False\n",
    "                else:\n",
    "                    row_opt = False\n",
    "                    col_opt = True\n",
    "            if row_opt:\n",
    "                ind = k + np.argmax(np.abs(a[k:, k]))\n",
    "                a[[k, ind]] = a[[ind, k]]\n",
    "                b[ind], b[k] = b[k], b[ind]\n",
    "            elif col_opt:\n",
    "                ind = k + np.argmax(np.abs(a[k, k:]))\n",
    "                order[k], order[ind] = order[ind], order[k]\n",
    "                a[:,[k, ind]] = a[:,[ind, k]]\n",
    "                \n",
    "            # elimination\n",
    "            r = a[i, k] / a[k, k]\n",
    "            a[i, :] -= a[k, :] * r\n",
    "            b[i] -= b[k] * r\n",
    "    \n",
    "    \n",
    "    # backward\n",
    "    unordered_x = np.zeros(n)    \n",
    "    for i in range(n-1, -1, -1):\n",
    "        unordered_x[i] = (b[i] - np.dot(a[i, i:n], unordered_x[i:n])) / a[i, i]\n",
    "    x = np.zeros(n)\n",
    "    for i, o in enumerate(order):\n",
    "        x[o] = unordered_x[i]\n",
    "    return x"
   ]
  },
  {
   "cell_type": "code",
   "execution_count": 4,
   "id": "a740d9b3",
   "metadata": {},
   "outputs": [],
   "source": [
    "def vec_norm(x):\n",
    "    return max(abs(x))\n",
    "\n",
    "def mat_norm(A):\n",
    "    return max(np.sum(np.abs(A), axis=1))"
   ]
  },
  {
   "cell_type": "code",
   "execution_count": 5,
   "id": "21657453",
   "metadata": {},
   "outputs": [],
   "source": [
    "def check_diag_dominance(a):\n",
    "    n = a.shape[0]\n",
    "    for i in range(n):\n",
    "        if a[i][i] < sum(a[i][[j for j in range(n) if j != i]]):\n",
    "            return False\n",
    "    return True"
   ]
  },
  {
   "cell_type": "code",
   "execution_count": 27,
   "id": "6535e375",
   "metadata": {},
   "outputs": [],
   "source": [
    "def jacobi(A, b, eps=1e-10):\n",
    "    assert check_diag_dominance(A), 'A isnt triag dominance'\n",
    "                                                                                                                                     \n",
    "    x = np.zeros_like(b)\n",
    "    \n",
    "    D = np.diag(A)\n",
    "    R = (A - np.diagflat(D)) / D\n",
    "    g = b / D\n",
    "    \n",
    "    assert mat_norm(R) < 1, 'R matrix has norm > 1'\n",
    "    \n",
    "    c = 0\n",
    "    while True:\n",
    "        c += 1\n",
    "        prev_x = x\n",
    "        x = g - np.dot(R, x)\n",
    "        \n",
    "        if vec_norm(prev_x - x) < eps:\n",
    "            return x, mat_norm(R), c\n",
    "        "
   ]
  },
  {
   "cell_type": "code",
   "execution_count": 28,
   "id": "26ede05a",
   "metadata": {},
   "outputs": [],
   "source": [
    "N = 4\n",
    "LOW = -10\n",
    "HIGH = 10\n",
    "A = gen_matrix(N, a=LOW, b=HIGH, triag_dom=3)\n",
    "b = np.random.uniform(LOW, HIGH, N)"
   ]
  },
  {
   "cell_type": "code",
   "execution_count": 29,
   "id": "9669e7c5",
   "metadata": {},
   "outputs": [],
   "source": [
    "x_gauss = gauss(A, b)"
   ]
  },
  {
   "cell_type": "code",
   "execution_count": 30,
   "id": "2e509cbf",
   "metadata": {},
   "outputs": [
    {
     "data": {
      "text/plain": [
       "array([-0.01487189, -0.08072054, -0.15713376,  0.00617757])"
      ]
     },
     "execution_count": 30,
     "metadata": {},
     "output_type": "execute_result"
    }
   ],
   "source": [
    "x_gauss"
   ]
  },
  {
   "cell_type": "code",
   "execution_count": 31,
   "id": "f27989a2",
   "metadata": {},
   "outputs": [],
   "source": [
    "x_jacobi, n, c = jacobi(A, b)"
   ]
  },
  {
   "cell_type": "code",
   "execution_count": 32,
   "id": "a9f6fa23",
   "metadata": {},
   "outputs": [
    {
     "data": {
      "text/plain": [
       "13"
      ]
     },
     "execution_count": 32,
     "metadata": {},
     "output_type": "execute_result"
    }
   ],
   "source": [
    "c"
   ]
  },
  {
   "cell_type": "code",
   "execution_count": 25,
   "id": "f3e74c39",
   "metadata": {},
   "outputs": [
    {
     "data": {
      "text/plain": [
       "array([ 0.08049633,  0.01904396,  0.05104557, -0.05123509])"
      ]
     },
     "execution_count": 25,
     "metadata": {},
     "output_type": "execute_result"
    }
   ],
   "source": [
    "x_jacobi"
   ]
  },
  {
   "cell_type": "code",
   "execution_count": 12,
   "id": "7e10877d",
   "metadata": {},
   "outputs": [
    {
     "data": {
      "text/plain": [
       "0.03781211363191486"
      ]
     },
     "execution_count": 12,
     "metadata": {},
     "output_type": "execute_result"
    }
   ],
   "source": [
    "vec_norm(x_jacobi-x_gauss)"
   ]
  },
  {
   "cell_type": "code",
   "execution_count": 13,
   "id": "bc7468f9",
   "metadata": {},
   "outputs": [
    {
     "name": "stdout",
     "output_type": "stream",
     "text": [
      "[NbConvertApp] Converting notebook lab6.ipynb to PDFviaHTML\n",
      "[NbConvertApp] Writing 416620 bytes to lab6.pdf\n"
     ]
    }
   ],
   "source": [
    "!jupyter-nbconvert --to PDFviaHTML lab6.ipynb"
   ]
  }
 ],
 "metadata": {
  "kernelspec": {
   "display_name": "Python 3",
   "language": "python",
   "name": "python3"
  },
  "language_info": {
   "codemirror_mode": {
    "name": "ipython",
    "version": 3
   },
   "file_extension": ".py",
   "mimetype": "text/x-python",
   "name": "python",
   "nbconvert_exporter": "python",
   "pygments_lexer": "ipython3",
   "version": "3.7.10"
  }
 },
 "nbformat": 4,
 "nbformat_minor": 5
}
