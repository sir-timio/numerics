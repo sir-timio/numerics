{
 "cells": [
  {
   "cell_type": "markdown",
   "id": "9ff39059",
   "metadata": {},
   "source": [
    "## сплайны\n",
    "Вариант 14"
   ]
  },
  {
   "cell_type": "code",
   "execution_count": 1,
   "id": "4eb8bc8c",
   "metadata": {},
   "outputs": [],
   "source": [
    "import matplotlib.pyplot as plt\n",
    "import numpy as np\n",
    "from numpy import sqrt, sum, power\n",
    "from copy import deepcopy\n"
   ]
  },
  {
   "cell_type": "code",
   "execution_count": 2,
   "id": "a52427da",
   "metadata": {},
   "outputs": [],
   "source": [
    "from copy import deepcopy\n",
    "def solve_matrix(a, b, c, d):\n",
    "    can_solve = True\n",
    "    n = len(b)\n",
    "\n",
    "    c = np.append(c, 0).copy()\n",
    "    b = b.copy()\n",
    "    a = np.insert(a, 0, 0).copy()\n",
    "    d = d.copy()\n",
    "        \n",
    "    for i in range(1, n-1):\n",
    "        if abs(b[i]) < abs(a[i] + c[i-1]):\n",
    "            f = False\n",
    "            break\n",
    "        if abs(c[i]/b[i]) > 1:\n",
    "            f = False\n",
    "            break\n",
    "        if abs(a[i+1] / c[i]) > 1:\n",
    "            f = False\n",
    "            break\n",
    "    if not can_solve:\n",
    "        print('incorrect system')\n",
    "        return None\n",
    "\n",
    "    x = np.zeros(n)\n",
    "    \n",
    "    alpha =  np.zeros(n)\n",
    "    beta = np.zeros(n)\n",
    "    \n",
    "    alpha[0] = -c[0] / b[0]\n",
    "    beta[0] = d[0] / b[0]\n",
    "    \n",
    "    for i in range(1, n):\n",
    "        alpha[i] = -c[i] / (a[i-1] * alpha[i-1] + b[i])\n",
    "        beta[i] = (d[i] - a[i-1] * beta[i-1]) / (a[i-1] * alpha[i-1] + b[i])\n",
    "    \n",
    "    x[n-1] = beta[n-1]\n",
    "    \n",
    "    for i in range(n-2, -1, -1):\n",
    "        x[i] = alpha[i] * x[i+1] + beta[i]\n",
    "    return x\n",
    "        "
   ]
  },
  {
   "cell_type": "code",
   "execution_count": 3,
   "id": "97078c4e",
   "metadata": {},
   "outputs": [],
   "source": [
    "def compute_sqrt_error(ys, pred_ys, normalize=False):\n",
    "    e = sqrt(sum(power(ys-pred_ys, 2)))\n",
    "    if normalize:\n",
    "        return e / sqrt(len(ys))\n",
    "    return e"
   ]
  },
  {
   "cell_type": "code",
   "execution_count": 4,
   "id": "4c40362d",
   "metadata": {},
   "outputs": [],
   "source": [
    "xs = np.array([1, 1.5, 2, 2.5, 3, 3.5, 4, 4.5, 5])\n",
    "ys = np.array([3.21, 2.95, 4.06, 4.03, 5.39, 5.97, 6.51, 6.77, 7.79])"
   ]
  },
  {
   "cell_type": "code",
   "execution_count": 5,
   "id": "ce68a695",
   "metadata": {
    "scrolled": true
   },
   "outputs": [
    {
     "data": {
      "text/plain": [
       "[<matplotlib.lines.Line2D at 0x108afb550>]"
      ]
     },
     "execution_count": 5,
     "metadata": {},
     "output_type": "execute_result"
    },
    {
     "data": {
      "image/png": "[encoded data removed]",
      "text/plain": [
       "<Figure size 432x288 with 1 Axes>"
      ]
     },
     "metadata": {
      "needs_background": "light"
     },
     "output_type": "display_data"
    }
   ],
   "source": [
    "plt.plot(xs, ys, '.')"
   ]
  },
  {
   "cell_type": "code",
   "execution_count": 6,
   "id": "02016103",
   "metadata": {},
   "outputs": [],
   "source": [
    "a = 1.4\n",
    "b = 0.89\n",
    "def f(x, a=a, b=b):\n",
    "    return a*x+b"
   ]
  },
  {
   "cell_type": "code",
   "execution_count": 7,
   "id": "92048af1",
   "metadata": {
    "scrolled": false
   },
   "outputs": [
    {
     "data": {
      "text/plain": [
       "[<matplotlib.lines.Line2D at 0x108bffd90>]"
      ]
     },
     "execution_count": 7,
     "metadata": {},
     "output_type": "execute_result"
    },
    {
     "data": {
      "image/png": "[encoded data removed]",
      "text/plain": [
       "<Figure size 432x288 with 1 Axes>"
      ]
     },
     "metadata": {
      "needs_background": "light"
     },
     "output_type": "display_data"
    }
   ],
   "source": [
    "plt.plot(xs, f(xs))\n",
    "plt.plot(xs, ys, '.')"
   ]
  },
  {
   "cell_type": "code",
   "execution_count": 8,
   "id": "8fe2d341",
   "metadata": {},
   "outputs": [],
   "source": [
    "from collections import namedtuple\n",
    "Spline = namedtuple('Spline', 'a, b, c, d')\n",
    "def calc_spline(xs, ys):\n",
    "    n = len(xs)\n",
    "    h = (xs[-1] - xs[0]) / (len(xs)-1)\n",
    "    \n",
    "    ak = np.ones(n-1)\n",
    "    bk = np.ones(n) * 4\n",
    "    ck = np.ones(n-1)\n",
    "    dk = np.zeros(n)\n",
    "    for i in range(1, n-1):\n",
    "        dk[i] = (3 / (h*h)) * (ys[i+1] - 2*ys[i] + ys[i-1])\n",
    "    \n",
    "    c = solve_matrix(ak, bk, ck, dk)\n",
    "    c[0] = 0\n",
    "    c[n-1] = 0\n",
    "\n",
    "    a = np.zeros(n)\n",
    "    b = np.zeros(n)\n",
    "    d = np.zeros(n)\n",
    "    \n",
    "    for i in range(n-2):\n",
    "        a[i] = ys[i]\n",
    "        b[i] = (ys[i+1] - ys[i]) / h - (h/3) * (c[i+1] + 2*c[i])\n",
    "        d[i] = (c[i+1] - c[i]) / (3 * h)\n",
    "     \n",
    "    a[n-2] = ys[n-2]\n",
    "    b[n-2] = ((ys[n-1] - ys[n-2]) / h) - ((2/3) * h * c[n-2])\n",
    "    d[n-2] = -c[n-2]/(3*h)\n",
    "    return Spline(a, b, c, d)\n",
    "\n",
    "def spline_at(x, xs, spline):\n",
    "    for i in range(len(xs)-1):\n",
    "        if xs[i] <= x <= xs[i+1]:\n",
    "            d = x - xs[i]\n",
    "            return spline.a[i] + spline.b[i] * (x - xs[i]) + spline.c[i] * (x - xs[i])**2 + spline.d[i] * (x - xs[i])**3"
   ]
  },
  {
   "cell_type": "code",
   "execution_count": 9,
   "id": "40d8cbc3",
   "metadata": {},
   "outputs": [],
   "source": [
    "spline = calc_spline(xs, ys)"
   ]
  },
  {
   "cell_type": "code",
   "execution_count": 10,
   "id": "77c51428",
   "metadata": {},
   "outputs": [],
   "source": [
    "import matplotlib.pyplot as plt\n",
    "plt.rcParams[\"figure.figsize\"] = (12,8)"
   ]
  },
  {
   "cell_type": "code",
   "execution_count": 11,
   "id": "6bd876b0",
   "metadata": {
    "scrolled": false
   },
   "outputs": [
    {
     "data": {
      "text/plain": [
       "[<matplotlib.lines.Line2D at 0x108caa5d0>]"
      ]
     },
     "execution_count": 11,
     "metadata": {},
     "output_type": "execute_result"
    },
    {
     "data": {
      "image/png": "[encoded data removed]",
      "text/plain": [
       "<Figure size 864x576 with 1 Axes>"
      ]
     },
     "metadata": {
      "needs_background": "light"
     },
     "output_type": "display_data"
    }
   ],
   "source": [
    "spline_xs = np.linspace(1, 5, 1000)\n",
    "spline_ys = [spline_at(x, xs=xs, spline=spline) for x in spline_xs]\n",
    "plt.plot(spline_xs, spline_ys)\n",
    "plt.plot(xs, ys, '*')\n",
    "# plt.plot(xs, ys)\n",
    "plt.plot(xs, f(xs))"
   ]
  },
  {
   "cell_type": "code",
   "execution_count": 12,
   "id": "377157df",
   "metadata": {},
   "outputs": [],
   "source": [
    "e = compute_sqrt_error(f(spline_xs), spline_ys)"
   ]
  },
  {
   "cell_type": "code",
   "execution_count": 13,
   "id": "69144f4b",
   "metadata": {},
   "outputs": [
    {
     "data": {
      "text/plain": [
       "9.036089246341936"
      ]
     },
     "execution_count": 13,
     "metadata": {},
     "output_type": "execute_result"
    }
   ],
   "source": [
    "e"
   ]
  },
  {
   "cell_type": "code",
   "execution_count": 14,
   "id": "6a9f0fe4",
   "metadata": {},
   "outputs": [],
   "source": [
    "e_norm = compute_sqrt_error(f(spline_xs), spline_ys, normalize=True)"
   ]
  },
  {
   "cell_type": "code",
   "execution_count": 15,
   "id": "b95b60c0",
   "metadata": {},
   "outputs": [
    {
     "data": {
      "text/plain": [
       "0.28574623158994833"
      ]
     },
     "execution_count": 15,
     "metadata": {},
     "output_type": "execute_result"
    }
   ],
   "source": [
    "e_norm"
   ]
  }
 ],
 "metadata": {
  "kernelspec": {
   "display_name": "Python 3",
   "language": "python",
   "name": "python3"
  },
  "language_info": {
   "codemirror_mode": {
    "name": "ipython",
    "version": 3
   },
   "file_extension": ".py",
   "mimetype": "text/x-python",
   "name": "python",
   "nbconvert_exporter": "python",
   "pygments_lexer": "ipython3",
   "version": "3.7.10"
  }
 },
 "nbformat": 4,
 "nbformat_minor": 5
}
