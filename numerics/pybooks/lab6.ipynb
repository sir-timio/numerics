{
 "cells": [
  {
   "cell_type": "markdown",
   "id": "52dee871",
   "metadata": {},
   "source": [
    "## вариант 7"
   ]
  },
  {
   "cell_type": "code",
   "execution_count": 3,
   "id": "32ec732e",
   "metadata": {},
   "outputs": [],
   "source": [
    "import numpy as np\n",
    "from numpy import cos, sin, linalg"
   ]
  },
  {
   "cell_type": "code",
   "execution_count": 9,
   "id": "7d94ee1a",
   "metadata": {},
   "outputs": [],
   "source": [
    "graph_solution = np.array([1.803, 0.583])\n",
    "\n",
    "f1 = lambda x, y: sin(x-1) + y - 1.3\n",
    "f2 = lambda x, y: x - sin(y+1) - 0.8\n",
    "\n",
    "f1x = lambda x, y: cos(x-1)\n",
    "f1y = lambda x, y: 1\n",
    "\n",
    "f2x = lambda x, y: 1\n",
    "f2y = lambda x, y: -cos(y+1)"
   ]
  },
  {
   "cell_type": "code",
   "execution_count": 10,
   "id": "64b24973",
   "metadata": {},
   "outputs": [],
   "source": [
    "def solve_Newton(x, eps=0.001):\n",
    "    count = 0\n",
    "    while True:\n",
    "        count += 1 \n",
    "        f = np.array([-f1(*x), -f2(*x)])\n",
    "        jacob = np.array([\n",
    "            [f1x(*x), f1y(*x)],\n",
    "            [f2x(*x), f2y(*x)]\n",
    "        ])\n",
    "        y = linalg.solve(jacob, f)\n",
    "        e = max(abs(y))\n",
    "        if e < eps:\n",
    "            print(count)\n",
    "            return x, e\n",
    "        x += y"
   ]
  },
  {
   "cell_type": "code",
   "execution_count": 21,
   "id": "03353562",
   "metadata": {},
   "outputs": [
    {
     "name": "stdout",
     "output_type": "stream",
     "text": [
      "графическое решение: [1.803 0.583]\n",
      "начальное приблжение: [1.5 0.3]\n",
      "3\n",
      "погрешность k-го приближения: 0.001133699681339239\n",
      "решение: [1.80106346 0.58167236]\n"
     ]
    }
   ],
   "source": [
    "start_x = np.array([1.5, 0.3])\n",
    "print(f'графическое решение: {graph_solution}')\n",
    "print(f'начальное приблжение: {start_x}')\n",
    "\n",
    "x, e = solve_Newton(x=start_x, eps=0.01)\n",
    "print(f'погрешность k-го приближения: {e}')\n",
    "print(f'решение: {x}')\n"
   ]
  },
  {
   "cell_type": "code",
   "execution_count": null,
   "id": "1d8286e1",
   "metadata": {},
   "outputs": [],
   "source": []
  }
 ],
 "metadata": {
  "kernelspec": {
   "display_name": "Python 3",
   "language": "python",
   "name": "python3"
  },
  "language_info": {
   "codemirror_mode": {
    "name": "ipython",
    "version": 3
   },
   "file_extension": ".py",
   "mimetype": "text/x-python",
   "name": "python",
   "nbconvert_exporter": "python",
   "pygments_lexer": "ipython3",
   "version": "3.7.10"
  }
 },
 "nbformat": 4,
 "nbformat_minor": 5
}
