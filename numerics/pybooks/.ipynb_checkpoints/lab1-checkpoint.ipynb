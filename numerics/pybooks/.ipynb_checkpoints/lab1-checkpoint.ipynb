{
 "cells": [
  {
   "cell_type": "code",
   "execution_count": 1,
   "id": "ae91cc91",
   "metadata": {},
   "outputs": [],
   "source": [
    "import numpy as np"
   ]
  },
  {
   "cell_type": "code",
   "execution_count": 22,
   "id": "357d1281",
   "metadata": {},
   "outputs": [],
   "source": [
    "from copy import deepcopy\n",
    "def solve_matrix(a, b, c, d):\n",
    "    can_solve = True\n",
    "    n = len(a)\n",
    "\n",
    "    c = np.append(c, 0).copy()\n",
    "    b = b.copy()\n",
    "    a = np.insert(a, 0, 0).copy()\n",
    "    d = d.copy()\n",
    "        \n",
    "    for i in range(1, n-1):\n",
    "        if abs(b[i]) < abs(a[i] + c[i-1]):\n",
    "            f = False\n",
    "            break\n",
    "        if abs(c[i]/b[i]) > 1:\n",
    "            f = False\n",
    "            break\n",
    "        if abs(a[i+1] / c[i]) > 1:\n",
    "            f = False\n",
    "            break\n",
    "    if not can_solve:\n",
    "        print('incorrect system')\n",
    "        return None\n",
    "\n",
    "    x = np.zeros(n)\n",
    "    \n",
    "    alpha =  np.zeros(n)\n",
    "    beta = np.zeros(n)\n",
    "    \n",
    "    alpha[0] = -c[0] / b[0]\n",
    "    beta[0] = d[0] / b[0]\n",
    "    \n",
    "    for i in range(1, n):\n",
    "        alpha[i] = -c[i] / (a[i-1] * alpha[i-1] + b[i])\n",
    "        beta[i] = (d[i] - a[i-1] * beta[i-1]) / (a[i-1] * alpha[i-1] + b[i])\n",
    "    \n",
    "    x[n-1] = beta[n-1]\n",
    "    \n",
    "    for i in range(n-2, -1, -1):\n",
    "        x[i] = alpha[i] * x[i+1] + beta[i]\n",
    "    return x\n",
    "        "
   ]
  },
  {
   "cell_type": "code",
   "execution_count": 23,
   "id": "3a817fe2",
   "metadata": {},
   "outputs": [],
   "source": [
    "def get_error(x, ans):\n",
    "    error = []\n",
    "    for i, j in zip(x, ans):\n",
    "        error.append(abs(i-j))\n",
    "    return error"
   ]
  },
  {
   "cell_type": "code",
   "execution_count": 24,
   "id": "36877404",
   "metadata": {},
   "outputs": [],
   "source": [
    "def solve_matrix_gauss(a, d):\n",
    "    a = deepcopy(a)\n",
    "    d = deepcopy(d)\n",
    "    n = len(a[0])\n",
    "    x = [0 for _ in range(n)]\n",
    "    for i in range(n):\n",
    "        a[i].append(d[i])\n",
    "    for i in range(n):\n",
    "        if a[i][i] == 0:\n",
    "            print('error')\n",
    "            return\n",
    "        for j in range(i+1, n):\n",
    "            r = a[j][i]/a[i][i]\n",
    "            for k in range(n+1):\n",
    "                a[j][k] = a[j][k] - r * a[i][k]\n",
    "    x[n-1] = a[n-1][n]/a[n-1][n-1]\n",
    "    \n",
    "    for i in range(n-2, -1, -1):\n",
    "        x[i] = a[i][n]\n",
    "        \n",
    "        for j in range(i+1, n):\n",
    "            x[i] = x[i] - a[i][j]*x[j]\n",
    "        x[i] = x[i]/a[i][i]\n",
    "        \n",
    "    return x"
   ]
  },
  {
   "cell_type": "code",
   "execution_count": 25,
   "id": "28459c3f",
   "metadata": {},
   "outputs": [
    {
     "name": "stdout",
     "output_type": "stream",
     "text": [
      "[0. 1. 1. 1.]\n",
      "[4. 4. 4. 4.]\n",
      "[1. 1. 1. 0.]\n"
     ]
    }
   ],
   "source": [
    "a = np.array([1., 1., 1.])\n",
    "b = np.array([4., 4., 4., 4.])\n",
    "c = np.array([1., 1., 1.])\n",
    "d = np.array([5., 6., 6., 5.])\n",
    "x = solve_matrix(a, b, c, d)"
   ]
  },
  {
   "cell_type": "code",
   "execution_count": 7,
   "id": "cf58fe9f",
   "metadata": {},
   "outputs": [],
   "source": [
    "A = [\n",
    "    [4, 1, 0, 0],\n",
    "    [1, 4, 1, 0],\n",
    "    [0, 1, 4, 1],\n",
    "    [0, 0, 1, 4]\n",
    "]\n",
    "d = [5, 6, 6, 5]\n",
    "gauss_x = solve_matrix_gauss(A.copy(), d)"
   ]
  },
  {
   "cell_type": "code",
   "execution_count": 7,
   "id": "c4fed854",
   "metadata": {},
   "outputs": [],
   "source": [
    "accurate_x = [1., 1., 1., 1.]"
   ]
  },
  {
   "cell_type": "code",
   "execution_count": 8,
   "id": "9c066aab",
   "metadata": {},
   "outputs": [
    {
     "data": {
      "text/plain": [
       "[0.0, 0.0, 0.0, 0.0]"
      ]
     },
     "execution_count": 8,
     "metadata": {},
     "output_type": "execute_result"
    }
   ],
   "source": [
    "get_error(gauss_x, accurate_x)"
   ]
  },
  {
   "cell_type": "code",
   "execution_count": 9,
   "id": "9f9fd3a1",
   "metadata": {},
   "outputs": [],
   "source": [
    "def matrix_x_vector(A, v):\n",
    "    rows = len(A)\n",
    "    cols = len(A[0])\n",
    "    \n",
    "    if cols != len(v):\n",
    "        print('dims dont fit')\n",
    "\n",
    "    res = [sum([A[i][j] * v[j] for j in range(cols)]) for i in range(rows)]\n",
    "    return res"
   ]
  },
  {
   "cell_type": "code",
   "execution_count": 10,
   "id": "18d65db7",
   "metadata": {},
   "outputs": [],
   "source": [
    "error = get_error(gauss_x, x)"
   ]
  },
  {
   "cell_type": "code",
   "execution_count": 22,
   "id": "5a7e5919",
   "metadata": {},
   "outputs": [],
   "source": [
    "a = np.array([0, 1, 1, 1])\n",
    "b = np.array([4, 4, 4, 4])\n",
    "c = np.array([1, 1, 1, 0])\n",
    "d = np.array([6, 6, 6, 5])"
   ]
  },
  {
   "cell_type": "code",
   "execution_count": 23,
   "id": "4f9b0768",
   "metadata": {},
   "outputs": [
    {
     "ename": "NameError",
     "evalue": "name 'matrix_x_vector' is not defined",
     "output_type": "error",
     "traceback": [
      "\u001b[0;31m---------------------------------------------------------------------------\u001b[0m",
      "\u001b[0;31mNameError\u001b[0m                                 Traceback (most recent call last)",
      "\u001b[0;32m<ipython-input-23-5070f254ddc3>\u001b[0m in \u001b[0;36m<module>\u001b[0;34m\u001b[0m\n\u001b[1;32m      1\u001b[0m \u001b[0mx\u001b[0m \u001b[0;34m=\u001b[0m \u001b[0msolve_matrix\u001b[0m\u001b[0;34m(\u001b[0m\u001b[0ma\u001b[0m\u001b[0;34m,\u001b[0m \u001b[0mb\u001b[0m\u001b[0;34m,\u001b[0m \u001b[0mc\u001b[0m\u001b[0;34m,\u001b[0m \u001b[0md\u001b[0m\u001b[0;34m)\u001b[0m\u001b[0;34m\u001b[0m\u001b[0;34m\u001b[0m\u001b[0m\n\u001b[0;32m----> 2\u001b[0;31m \u001b[0md_\u001b[0m \u001b[0;34m=\u001b[0m \u001b[0mmatrix_x_vector\u001b[0m\u001b[0;34m(\u001b[0m\u001b[0mA\u001b[0m\u001b[0;34m,\u001b[0m \u001b[0mx\u001b[0m\u001b[0;34m)\u001b[0m\u001b[0;34m\u001b[0m\u001b[0;34m\u001b[0m\u001b[0m\n\u001b[0m\u001b[1;32m      3\u001b[0m \u001b[0mr\u001b[0m \u001b[0;34m=\u001b[0m \u001b[0mget_error\u001b[0m\u001b[0;34m(\u001b[0m\u001b[0md\u001b[0m\u001b[0;34m,\u001b[0m \u001b[0md_\u001b[0m\u001b[0;34m)\u001b[0m\u001b[0;34m\u001b[0m\u001b[0;34m\u001b[0m\u001b[0m\n",
      "\u001b[0;31mNameError\u001b[0m: name 'matrix_x_vector' is not defined"
     ]
    }
   ],
   "source": [
    "x = solve_matrix(a, b, c, d)\n",
    "d_ = matrix_x_vector(A, x)\n",
    "r = get_error(d, d_)"
   ]
  },
  {
   "cell_type": "code",
   "execution_count": 24,
   "id": "136211ad",
   "metadata": {},
   "outputs": [
    {
     "data": {
      "text/plain": [
       "array([1.19921875, 1.203125  , 1.1875    , 1.25      ])"
      ]
     },
     "execution_count": 24,
     "metadata": {},
     "output_type": "execute_result"
    }
   ],
   "source": [
    "x"
   ]
  },
  {
   "cell_type": "code",
   "execution_count": 13,
   "id": "8a13372a",
   "metadata": {},
   "outputs": [
    {
     "name": "stdout",
     "output_type": "stream",
     "text": [
      "0.0\n",
      "0.0\n",
      "8.881784197001252e-16\n",
      "0.0\n"
     ]
    }
   ],
   "source": [
    "for e in r:\n",
    "    print(e)\n",
    "#     print(\"{:.50f}\".format(e))"
   ]
  },
  {
   "cell_type": "code",
   "execution_count": 14,
   "id": "2aecd7a2",
   "metadata": {},
   "outputs": [],
   "source": [
    "A = [\n",
    "    [4, 1, 0, 0],\n",
    "    [1, 4, 1, 0],\n",
    "    [0, 1, 4, 1],\n",
    "    [0, 0, 1, 4]\n",
    "]\n",
    "d = [6, 6, 6, 5]\n",
    "x = solve_matrix_gauss(A, d)\n",
    "d_ = matrix_x_vector(A, x)\n",
    "r = get_error(d, d_)"
   ]
  },
  {
   "cell_type": "code",
   "execution_count": 15,
   "id": "cfb028cd",
   "metadata": {},
   "outputs": [
    {
     "data": {
      "text/plain": [
       "[1.2679425837320575,\n",
       " 0.9282296650717704,\n",
       " 1.0191387559808611,\n",
       " 0.9952153110047847]"
      ]
     },
     "execution_count": 15,
     "metadata": {},
     "output_type": "execute_result"
    }
   ],
   "source": [
    "x"
   ]
  },
  {
   "cell_type": "code",
   "execution_count": 16,
   "id": "ecbdbeb4",
   "metadata": {},
   "outputs": [
    {
     "name": "stdout",
     "output_type": "stream",
     "text": [
      "0.0\n",
      "0.0\n",
      "8.881784197001252e-16\n",
      "0.0\n"
     ]
    }
   ],
   "source": [
    "for e in r:\n",
    "    print(e)\n",
    "#     print(\"{:.50f}\".format(e))"
   ]
  }
 ],
 "metadata": {
  "kernelspec": {
   "display_name": "Python 3",
   "language": "python",
   "name": "python3"
  },
  "language_info": {
   "codemirror_mode": {
    "name": "ipython",
    "version": 3
   },
   "file_extension": ".py",
   "mimetype": "text/x-python",
   "name": "python",
   "nbconvert_exporter": "python",
   "pygments_lexer": "ipython3",
   "version": "3.7.10"
  }
 },
 "nbformat": 4,
 "nbformat_minor": 5
}
