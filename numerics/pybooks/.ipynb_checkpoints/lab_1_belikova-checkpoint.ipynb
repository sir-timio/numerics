{
 "cells": [
  {
   "cell_type": "code",
   "execution_count": 1,
   "id": "838bbeb0",
   "metadata": {},
   "outputs": [],
   "source": [
    "matrix = [\n",
    "    [7, 1, 0, 0],\n",
    "    [1, 4, 1, 0],\n",
    "    [0, 1, 4, 1],\n",
    "    [0, 0, 1, 4]\n",
    "]\n",
    "\n",
    "d = [6, 6, 6, 7]"
   ]
  },
  {
   "cell_type": "code",
   "execution_count": 2,
   "id": "34de0892",
   "metadata": {},
   "outputs": [],
   "source": [
    "def gauss_method(matrix, d):\n",
    "    \n",
    "    def raise_max(matrix, j):\n",
    "        max_elem = matrix[j][j]\n",
    "        max_row = j\n",
    "        for i in range(j + 1, len(matrix)):\n",
    "            if abs(matrix[i][j]) > abs(max_elem):\n",
    "                max_elem = matrix[i][j]\n",
    "                max_row = i\n",
    "        if max_row != j:\n",
    "            matrix[j], matrix[max_row] = matrix[max_row], matrix[j]\n",
    "        \n",
    "    n = len(matrix)\n",
    "    res_matrix = [matrix[i].copy() + d[i:i+1] for i in range(n)]\n",
    "    \n",
    "    # forward\n",
    "    for i in range(n):\n",
    "        raise_max(res_matrix, i)\n",
    "        assert res_matrix[i][i] != 0, \"infinite number of solutions\"\n",
    "        for j in range(i+1, n): \n",
    "            a = res_matrix[j][i] / res_matrix[i][i]\n",
    "            for k in range(i, n+1):\n",
    "                res_matrix[j][k] -= res_matrix[i][k] * a\n",
    "    \n",
    "    # backward\n",
    "    x = [0 for i in range(n)]\n",
    "    for i in range(n-1, -1, -1):\n",
    "        linear_sum = sum([res_matrix[i][j] * x[j] for j in range(i+1, n)])\n",
    "        x[i] = (res_matrix[i][-1] - linear_sum) / res_matrix[i][i]\n",
    "    \n",
    "    return x\n",
    "\n",
    "\n",
    "def sweep_method(matrix, d):\n",
    "    \n",
    "    def check_conditions(a, b, c):\n",
    "        n = len(a)\n",
    "        if b[0] == 0:\n",
    "            return False\n",
    "        for i in range(1, n):\n",
    "            if abs(b[i]) < abs(a[i-1] + c[i]):\n",
    "                return False\n",
    "            if abs(c[i] / b[i]) > 1:\n",
    "                return False\n",
    "            if abs(a[i-1] / c[i]) > 1:\n",
    "                return False\n",
    "        return True\n",
    "\n",
    "    a, b, c = get_diagonals(matrix)\n",
    "    assert check_conditions(a, b, c), \"does not meet the conditions\"\n",
    "\n",
    "    n = len(b)\n",
    "    a = [0] + a\n",
    "    c = c + [0] \n",
    "    \n",
    "    # forward\n",
    "    coeffs = []\n",
    "    alpha = c[0] / b[0] * -1\n",
    "    beta = d[0] / b[0]\n",
    "    coeffs.append([alpha, beta])\n",
    "    for i in range(1, n):\n",
    "        divider = b[i] + a[i] * coeffs[-1][0]\n",
    "        alpha = c[i] / divider * -1\n",
    "        beta = (d[i] - a[i] * coeffs[-1][1]) / divider\n",
    "        coeffs.append([alpha, beta])\n",
    "    \n",
    "    # backward\n",
    "    x = [0 for _ in range(n-1)] + [coeffs.pop()[1]]\n",
    "    for i in range(n-2, -1, -1):\n",
    "        alpha, beta = coeffs.pop()\n",
    "        x[i] = alpha * x[i+1] + beta\n",
    "\n",
    "    return x"
   ]
  },
  {
   "cell_type": "code",
   "execution_count": 3,
   "id": "b21d8b4a",
   "metadata": {},
   "outputs": [],
   "source": [
    "def get_diagonals(matrix):\n",
    "    n = len(matrix)\n",
    "    a = [matrix[i][i-1] for i in range(1, n)]\n",
    "    b = [matrix[i][i] for i in range(n)]\n",
    "    c = [matrix[i][i+1] for i in range(n-1)]\n",
    "    return a, b, c\n",
    "\n",
    "\n",
    "def multiply_by_vector(A, v):\n",
    "    rows_A = len(A)\n",
    "    cols_A = len(A[0])\n",
    "    rows_v = len(v)\n",
    "\n",
    "    assert cols_A == rows_v, \"incorrect dimensions\"\n",
    "\n",
    "    C = [sum([A[i][j] * v[j] for j in range(cols_A)]) for i in range(rows_A)]\n",
    "    return C\n",
    "\n",
    "\n",
    "def invert_matrix(matrix):\n",
    "    n = len(matrix)\n",
    "    A = [line.copy() for line in matrix]\n",
    "    E = [[0 if i != j else 1 for j in range(n)] for i in range(n)]\n",
    "    for line in range(n):\n",
    "        beta = 1 / A[line][line]\n",
    "        for j in range(n):\n",
    "            A[line][j] *= beta\n",
    "            E[line][j] *= beta\n",
    "        for i in list(range(n))[:line] + list(range(n))[line+1:]:\n",
    "            alpha = A[i][line]\n",
    "            for j in range(n):\n",
    "                A[i][j] = A[i][j] - alpha * A[line][j]\n",
    "                E[i][j] = E[i][j] - alpha * E[line][j]\n",
    "    return E\n",
    "\n",
    "\n",
    "def get_vector_difference(v1, v2):\n",
    "    assert len(v1) == len(v2), \"incorrect dimensions\"\n",
    "    return [v1[i] - v2[i] for i in range(len(v1))]\n",
    "\n",
    "\n",
    "def get_r_vector(matrix, d, x):\n",
    "    d_new = multiply_by_vector(matrix, x)\n",
    "    r = get_vector_difference(d, d_new)\n",
    "#     inv_matrix = invert_matrix(matrix)\n",
    "#     error = multiply_by_vector(inv_matrix, r)\n",
    "    return r"
   ]
  },
  {
   "cell_type": "code",
   "execution_count": 4,
   "id": "ff4c583d",
   "metadata": {},
   "outputs": [
    {
     "data": {
      "text/plain": [
       "[0.6976127320954907, 1.116710875331565, 0.8355437665782495, 1.5411140583554375]"
      ]
     },
     "execution_count": 4,
     "metadata": {},
     "output_type": "execute_result"
    }
   ],
   "source": [
    "x = gauss_method(matrix, d)\n",
    "x"
   ]
  },
  {
   "cell_type": "code",
   "execution_count": 5,
   "id": "facdad35",
   "metadata": {},
   "outputs": [
    {
     "data": {
      "text/plain": [
       "[0.6976127320954907, 1.116710875331565, 0.8355437665782492, 1.5411140583554377]"
      ]
     },
     "execution_count": 5,
     "metadata": {},
     "output_type": "execute_result"
    }
   ],
   "source": [
    "x1 = sweep_method(matrix, d)\n",
    "x1"
   ]
  },
  {
   "cell_type": "code",
   "execution_count": 6,
   "id": "632541d5",
   "metadata": {},
   "outputs": [
    {
     "name": "stdout",
     "output_type": "stream",
     "text": [
      "1.54111405835543746611904225574107840657234191894531\n"
     ]
    }
   ],
   "source": [
    "print(\"{:.50f}\".format(x[3]))"
   ]
  },
  {
   "cell_type": "code",
   "execution_count": 7,
   "id": "ac42b727",
   "metadata": {},
   "outputs": [
    {
     "name": "stdout",
     "output_type": "stream",
     "text": [
      "1.54111405835543768816364718077238649129867553710938\n"
     ]
    }
   ],
   "source": [
    "print(\"{:.50f}\".format(x1[3]))"
   ]
  },
  {
   "cell_type": "code",
   "execution_count": 8,
   "id": "1acf9a6f",
   "metadata": {},
   "outputs": [
    {
     "data": {
      "text/plain": [
       "[0.0, 0.0, 0.0, 8.881784197001252e-16]"
      ]
     },
     "execution_count": 8,
     "metadata": {},
     "output_type": "execute_result"
    }
   ],
   "source": [
    "get_r_vector(matrix, d, x)"
   ]
  },
  {
   "cell_type": "code",
   "execution_count": 9,
   "id": "397f7e6c",
   "metadata": {},
   "outputs": [
    {
     "data": {
      "text/plain": [
       "[0.0, 0.0, 0.0, 0.0]"
      ]
     },
     "execution_count": 9,
     "metadata": {},
     "output_type": "execute_result"
    }
   ],
   "source": [
    "get_r_vector(matrix, d, x1)"
   ]
  }
 ],
 "metadata": {
  "kernelspec": {
   "display_name": "Python 3",
   "language": "python",
   "name": "python3"
  },
  "language_info": {
   "codemirror_mode": {
    "name": "ipython",
    "version": 3
   },
   "file_extension": ".py",
   "mimetype": "text/x-python",
   "name": "python",
   "nbconvert_exporter": "python",
   "pygments_lexer": "ipython3",
   "version": "3.7.10"
  }
 },
 "nbformat": 4,
 "nbformat_minor": 5
}
