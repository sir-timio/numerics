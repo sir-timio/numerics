{
 "cells": [
  {
   "cell_type": "markdown",
   "id": "9ff39059",
   "metadata": {},
   "source": [
    "## сплайны\n",
    "Вариант 14"
   ]
  },
  {
   "cell_type": "code",
   "execution_count": 1,
   "id": "4eb8bc8c",
   "metadata": {},
   "outputs": [],
   "source": [
    "import matplotlib.pyplot as plt\n",
    "import numpy as np\n",
    "from numpy import sqrt, sum, power\n",
    "from copy import deepcopy\n"
   ]
  },
  {
   "cell_type": "code",
   "execution_count": 2,
   "id": "a52427da",
   "metadata": {},
   "outputs": [],
   "source": [
    "from copy import deepcopy\n",
    "def solve_matrix(a, b, c, d):\n",
    "    can_solve = True\n",
    "    n = len(b)\n",
    "\n",
    "    c = np.append(c, 0).copy()\n",
    "    b = b.copy()\n",
    "    a = np.insert(a, 0, 0).copy()\n",
    "    d = d.copy()\n",
    "        \n",
    "    for i in range(1, n-1):\n",
    "        if abs(b[i]) < abs(a[i] + c[i-1]):\n",
    "            f = False\n",
    "            break\n",
    "        if abs(c[i]/b[i]) > 1:\n",
    "            f = False\n",
    "            break\n",
    "        if abs(a[i+1] / c[i]) > 1:\n",
    "            f = False\n",
    "            break\n",
    "    if not can_solve:\n",
    "        print('incorrect system')\n",
    "        return None\n",
    "\n",
    "    x = np.zeros(n)\n",
    "    \n",
    "    alpha =  np.zeros(n)\n",
    "    beta = np.zeros(n)\n",
    "    \n",
    "    alpha[0] = -c[0] / b[0]\n",
    "    beta[0] = d[0] / b[0]\n",
    "    \n",
    "    for i in range(1, n):\n",
    "        alpha[i] = -c[i] / (a[i-1] * alpha[i-1] + b[i])\n",
    "        beta[i] = (d[i] - a[i-1] * beta[i-1]) / (a[i-1] * alpha[i-1] + b[i])\n",
    "    \n",
    "    x[n-1] = beta[n-1]\n",
    "    \n",
    "    for i in range(n-2, -1, -1):\n",
    "        x[i] = alpha[i] * x[i+1] + beta[i]\n",
    "    return x\n",
    "        "
   ]
  },
  {
   "cell_type": "code",
   "execution_count": 3,
   "id": "97078c4e",
   "metadata": {},
   "outputs": [],
   "source": [
    "def compute_sqrt_error(ys, pred_ys, normalize=False):\n",
    "    e = sqrt(sum(power(ys-pred_ys, 2)))\n",
    "    if normalize:\n",
    "        return e / sqrt(len(ys))\n",
    "    return e"
   ]
  },
  {
   "cell_type": "code",
   "execution_count": 66,
   "id": "4c40362d",
   "metadata": {},
   "outputs": [],
   "source": [
    "xs = np.array([1, 1.5, 2, 2.5, 3, 3.5, 4, 4.5, 5])\n",
    "ys = np.array([3.21, 2.95, 4.06, 4.03, 5.39, 5.97, 6.51, 6.77, 7.79])"
   ]
  },
  {
   "cell_type": "code",
   "execution_count": 5,
   "id": "ce68a695",
   "metadata": {
    "scrolled": true
   },
   "outputs": [
    {
     "data": {
      "text/plain": [
       "[<matplotlib.lines.Line2D at 0x10f0c39d0>]"
      ]
     },
     "execution_count": 5,
     "metadata": {},
     "output_type": "execute_result"
    },
    {
     "data": {
      "image/png": "[encoded data removed]",
      "text/plain": [
       "<Figure size 432x288 with 1 Axes>"
      ]
     },
     "metadata": {
      "needs_background": "light"
     },
     "output_type": "display_data"
    }
   ],
   "source": [
    "plt.plot(xs, ys, '.')"
   ]
  },
  {
   "cell_type": "code",
   "execution_count": 14,
   "id": "f61559fc",
   "metadata": {},
   "outputs": [
    {
     "data": {
      "text/plain": [
       "array([3.21, 2.95, 4.06, 4.03, 5.39, 5.97, 6.51, 6.77, 7.79])"
      ]
     },
     "execution_count": 14,
     "metadata": {},
     "output_type": "execute_result"
    }
   ],
   "source": [
    "ys"
   ]
  },
  {
   "cell_type": "code",
   "execution_count": 7,
   "id": "02016103",
   "metadata": {},
   "outputs": [],
   "source": [
    "a = 1.4\n",
    "b = 0.89\n",
    "def f(x, a=a, b=b):\n",
    "    return a*x+b"
   ]
  },
  {
   "cell_type": "code",
   "execution_count": 8,
   "id": "92048af1",
   "metadata": {
    "scrolled": false
   },
   "outputs": [
    {
     "data": {
      "text/plain": [
       "[<matplotlib.lines.Line2D at 0x10f2b7b10>]"
      ]
     },
     "execution_count": 8,
     "metadata": {},
     "output_type": "execute_result"
    },
    {
     "data": {
      "image/png": "[encoded data removed]",
      "text/plain": [
       "<Figure size 432x288 with 1 Axes>"
      ]
     },
     "metadata": {
      "needs_background": "light"
     },
     "output_type": "display_data"
    }
   ],
   "source": [
    "plt.plot(xs, f(xs))\n",
    "plt.plot(xs, ys, '.')"
   ]
  },
  {
   "cell_type": "code",
   "execution_count": 9,
   "id": "8fe2d341",
   "metadata": {},
   "outputs": [],
   "source": [
    "from collections import namedtuple\n",
    "Spline = namedtuple('Spline', 'a, b, c, d')\n",
    "def calc_spline(xs, ys):\n",
    "    n = len(xs)\n",
    "    h = (xs[-1] - xs[0]) / (len(xs)-1)\n",
    "    \n",
    "    ak = np.ones(n-1)\n",
    "    bk = np.ones(n) * 4\n",
    "    ck = np.ones(n-1)\n",
    "    dk = np.zeros(n)\n",
    "    for i in range(1, n-1):\n",
    "        dk[i] = (3 / (h*h)) * (ys[i+1] - 2*ys[i] + ys[i-1])\n",
    "    \n",
    "    c = solve_matrix(ak, bk, ck, dk)\n",
    "    c[0] = 0\n",
    "    c[n-1] = 0\n",
    "\n",
    "    a = np.zeros(n)\n",
    "    b = np.zeros(n)\n",
    "    d = np.zeros(n)\n",
    "    \n",
    "    for i in range(n-2):\n",
    "        a[i] = ys[i]\n",
    "        b[i] = (ys[i+1] - ys[i]) / h - (h/3) * (c[i+1] + 2*c[i])\n",
    "        d[i] = (c[i+1] - c[i]) / (3 * h)\n",
    "     \n",
    "    a[n-2] = ys[n-2]\n",
    "    b[n-2] = ((ys[n-1] - ys[n-2]) / h) - ((2/3) * h * c[n-2])\n",
    "    d[n-2] = -c[n-2]/(3*h)\n",
    "    return Spline(a, b, c, d)\n",
    "\n",
    "def spline_at(x, xs, spline):\n",
    "    for i in range(len(xs)-1):\n",
    "        if xs[i] <= x <= xs[i+1]:\n",
    "            d = x - xs[i]\n",
    "            return spline.a[i] + spline.b[i] * (x - xs[i]) + spline.c[i] * (x - xs[i])**2 + spline.d[i] * (x - xs[i])**3"
   ]
  },
  {
   "cell_type": "code",
   "execution_count": 10,
   "id": "40d8cbc3",
   "metadata": {},
   "outputs": [],
   "source": [
    "spline = calc_spline(xs, ys)"
   ]
  },
  {
   "cell_type": "code",
   "execution_count": 11,
   "id": "77c51428",
   "metadata": {},
   "outputs": [],
   "source": [
    "import matplotlib.pyplot as plt\n",
    "plt.rcParams[\"figure.figsize\"] = (12,8)"
   ]
  },
  {
   "cell_type": "code",
   "execution_count": 94,
   "id": "6bd876b0",
   "metadata": {
    "scrolled": false
   },
   "outputs": [
    {
     "data": {
      "text/plain": [
       "[<matplotlib.lines.Line2D at 0x13b16da50>]"
      ]
     },
     "execution_count": 94,
     "metadata": {},
     "output_type": "execute_result"
    },
    {
     "data": {
      "image/png": "[encoded data removed]",
      "text/plain": [
       "<Figure size 864x576 with 1 Axes>"
      ]
     },
     "metadata": {
      "needs_background": "light"
     },
     "output_type": "display_data"
    }
   ],
   "source": [
    "spline_xs = np.linspace(1, 5, 1000)\n",
    "spline_ys = [spline_at(x, xs=xs, spline=spline) for x in spline_xs]\n",
    "plt.plot(spline_xs, spline_ys)\n",
    "plt.plot(xs, ys, '*')\n",
    "# plt.plot(xs, ys)\n",
    "plt.plot(xs, f(xs))"
   ]
  },
  {
   "cell_type": "code",
   "execution_count": 18,
   "id": "5a14a057",
   "metadata": {},
   "outputs": [
    {
     "data": {
      "text/plain": [
       "[<matplotlib.lines.Line2D at 0x138dd5d50>]"
      ]
     },
     "execution_count": 18,
     "metadata": {},
     "output_type": "execute_result"
    },
    {
     "data": {
      "image/png": "[encoded data removed]",
      "text/plain": [
       "<Figure size 864x576 with 1 Axes>"
      ]
     },
     "metadata": {
      "needs_background": "light"
     },
     "output_type": "display_data"
    }
   ],
   "source": [
    "# spline_xs = np.linspace(1, 5, 1000)\n",
    "spline_ys = [spline_at(x, xs=xs, spline=spline) for x in xs]\n",
    "plt.plot(xs, spline_ys)\n",
    "plt.plot(xs, ys, '*')\n",
    "# plt.plot(xs, ys)\n",
    "# plt.plot(xs, f(xs))"
   ]
  },
  {
   "cell_type": "code",
   "execution_count": 19,
   "id": "8b7317dd",
   "metadata": {},
   "outputs": [],
   "source": [
    "import pandas as pd"
   ]
  },
  {
   "cell_type": "code",
   "execution_count": 38,
   "id": "32785f46",
   "metadata": {},
   "outputs": [],
   "source": [
    "df = pd.DataFrame()"
   ]
  },
  {
   "cell_type": "code",
   "execution_count": 39,
   "id": "8ac67d7f",
   "metadata": {},
   "outputs": [],
   "source": [
    "df['x'] = xs"
   ]
  },
  {
   "cell_type": "code",
   "execution_count": 40,
   "id": "fab4f5dc",
   "metadata": {},
   "outputs": [],
   "source": [
    "df['y(x)'] = ys"
   ]
  },
  {
   "cell_type": "code",
   "execution_count": 41,
   "id": "c84c030c",
   "metadata": {},
   "outputs": [],
   "source": [
    "df['S(x)'] = spline_ys"
   ]
  },
  {
   "cell_type": "code",
   "execution_count": 42,
   "id": "5a1904f0",
   "metadata": {},
   "outputs": [],
   "source": [
    "df['e'] = abs(ys-spline_ys)"
   ]
  },
  {
   "cell_type": "code",
   "execution_count": 46,
   "id": "215bd520",
   "metadata": {},
   "outputs": [],
   "source": [
    "df = df.set_index('x')"
   ]
  },
  {
   "cell_type": "code",
   "execution_count": 50,
   "id": "9dd6e2df",
   "metadata": {},
   "outputs": [],
   "source": [
    "pd.options.display.float_format = '{:,.5f}'.format"
   ]
  },
  {
   "cell_type": "code",
   "execution_count": 51,
   "id": "c834d26d",
   "metadata": {},
   "outputs": [
    {
     "data": {
      "text/html": [
       "<div>\n",
       "<style scoped>\n",
       "    .dataframe tbody tr th:only-of-type {\n",
       "        vertical-align: middle;\n",
       "    }\n",
       "\n",
       "    .dataframe tbody tr th {\n",
       "        vertical-align: top;\n",
       "    }\n",
       "\n",
       "    .dataframe thead th {\n",
       "        text-align: right;\n",
       "    }\n",
       "</style>\n",
       "<table border=\"1\" class=\"dataframe\">\n",
       "  <thead>\n",
       "    <tr style=\"text-align: right;\">\n",
       "      <th></th>\n",
       "      <th>y(x)</th>\n",
       "      <th>S(x)</th>\n",
       "      <th>e</th>\n",
       "    </tr>\n",
       "    <tr>\n",
       "      <th>x</th>\n",
       "      <th></th>\n",
       "      <th></th>\n",
       "      <th></th>\n",
       "    </tr>\n",
       "  </thead>\n",
       "  <tbody>\n",
       "    <tr>\n",
       "      <th>1.00000</th>\n",
       "      <td>3.21000</td>\n",
       "      <td>3.21000</td>\n",
       "      <td>0.00000</td>\n",
       "    </tr>\n",
       "    <tr>\n",
       "      <th>1.50000</th>\n",
       "      <td>2.95000</td>\n",
       "      <td>2.95000</td>\n",
       "      <td>0.00000</td>\n",
       "    </tr>\n",
       "    <tr>\n",
       "      <th>2.00000</th>\n",
       "      <td>4.06000</td>\n",
       "      <td>4.06000</td>\n",
       "      <td>0.00000</td>\n",
       "    </tr>\n",
       "    <tr>\n",
       "      <th>2.50000</th>\n",
       "      <td>4.03000</td>\n",
       "      <td>4.03000</td>\n",
       "      <td>0.00000</td>\n",
       "    </tr>\n",
       "    <tr>\n",
       "      <th>3.00000</th>\n",
       "      <td>5.39000</td>\n",
       "      <td>5.39000</td>\n",
       "      <td>0.00000</td>\n",
       "    </tr>\n",
       "    <tr>\n",
       "      <th>3.50000</th>\n",
       "      <td>5.97000</td>\n",
       "      <td>5.97000</td>\n",
       "      <td>0.00000</td>\n",
       "    </tr>\n",
       "    <tr>\n",
       "      <th>4.00000</th>\n",
       "      <td>6.51000</td>\n",
       "      <td>6.51000</td>\n",
       "      <td>0.00000</td>\n",
       "    </tr>\n",
       "    <tr>\n",
       "      <th>4.50000</th>\n",
       "      <td>6.77000</td>\n",
       "      <td>6.77000</td>\n",
       "      <td>0.00000</td>\n",
       "    </tr>\n",
       "    <tr>\n",
       "      <th>5.00000</th>\n",
       "      <td>7.79000</td>\n",
       "      <td>7.79000</td>\n",
       "      <td>0.00000</td>\n",
       "    </tr>\n",
       "  </tbody>\n",
       "</table>\n",
       "</div>"
      ],
      "text/plain": [
       "           y(x)    S(x)       e\n",
       "x                              \n",
       "1.00000 3.21000 3.21000 0.00000\n",
       "1.50000 2.95000 2.95000 0.00000\n",
       "2.00000 4.06000 4.06000 0.00000\n",
       "2.50000 4.03000 4.03000 0.00000\n",
       "3.00000 5.39000 5.39000 0.00000\n",
       "3.50000 5.97000 5.97000 0.00000\n",
       "4.00000 6.51000 6.51000 0.00000\n",
       "4.50000 6.77000 6.77000 0.00000\n",
       "5.00000 7.79000 7.79000 0.00000"
      ]
     },
     "execution_count": 51,
     "metadata": {},
     "output_type": "execute_result"
    }
   ],
   "source": [
    "df"
   ]
  },
  {
   "cell_type": "code",
   "execution_count": 79,
   "id": "75afc117",
   "metadata": {},
   "outputs": [],
   "source": [
    "df = pd.DataFrame()"
   ]
  },
  {
   "cell_type": "code",
   "execution_count": 80,
   "id": "1ed76683",
   "metadata": {},
   "outputs": [],
   "source": [
    "xs_shift = np.linspace(1.25, 5.25, 9)"
   ]
  },
  {
   "cell_type": "code",
   "execution_count": 81,
   "id": "eeba9b0f",
   "metadata": {},
   "outputs": [],
   "source": [
    "df['x'] = xs_shift"
   ]
  },
  {
   "cell_type": "code",
   "execution_count": 82,
   "id": "782880d4",
   "metadata": {},
   "outputs": [],
   "source": [
    "df['y(x)'] = f(xs_shift)"
   ]
  },
  {
   "cell_type": "code",
   "execution_count": 83,
   "id": "2ab13108",
   "metadata": {},
   "outputs": [],
   "source": [
    "spline_ys = [spline_at(x, xs=xs, spline=spline) for x in xs_shift]"
   ]
  },
  {
   "cell_type": "code",
   "execution_count": 84,
   "id": "49f76550",
   "metadata": {},
   "outputs": [],
   "source": [
    "df['S(x)'] = spline_ys"
   ]
  },
  {
   "cell_type": "code",
   "execution_count": 85,
   "id": "fa94bbad",
   "metadata": {},
   "outputs": [],
   "source": [
    "df['e'] = abs(df['y(x)'] - df['S(x)'])"
   ]
  },
  {
   "cell_type": "code",
   "execution_count": 86,
   "id": "2d4b6b55",
   "metadata": {},
   "outputs": [],
   "source": [
    "df = df.set_index('x')"
   ]
  },
  {
   "cell_type": "code",
   "execution_count": 90,
   "id": "35b30108",
   "metadata": {},
   "outputs": [
    {
     "data": {
      "text/html": [
       "<div>\n",
       "<style scoped>\n",
       "    .dataframe tbody tr th:only-of-type {\n",
       "        vertical-align: middle;\n",
       "    }\n",
       "\n",
       "    .dataframe tbody tr th {\n",
       "        vertical-align: top;\n",
       "    }\n",
       "\n",
       "    .dataframe thead th {\n",
       "        text-align: right;\n",
       "    }\n",
       "</style>\n",
       "<table border=\"1\" class=\"dataframe\">\n",
       "  <thead>\n",
       "    <tr style=\"text-align: right;\">\n",
       "      <th></th>\n",
       "      <th>y(x)</th>\n",
       "      <th>S(x)</th>\n",
       "      <th>e</th>\n",
       "    </tr>\n",
       "    <tr>\n",
       "      <th>x</th>\n",
       "      <th></th>\n",
       "      <th></th>\n",
       "      <th></th>\n",
       "    </tr>\n",
       "  </thead>\n",
       "  <tbody>\n",
       "    <tr>\n",
       "      <th>1.25000</th>\n",
       "      <td>2.64000</td>\n",
       "      <td>2.90007</td>\n",
       "      <td>0.26007</td>\n",
       "    </tr>\n",
       "    <tr>\n",
       "      <th>1.75000</th>\n",
       "      <td>3.34000</td>\n",
       "      <td>3.53105</td>\n",
       "      <td>0.19105</td>\n",
       "    </tr>\n",
       "    <tr>\n",
       "      <th>2.25000</th>\n",
       "      <td>4.04000</td>\n",
       "      <td>4.03448</td>\n",
       "      <td>0.00552</td>\n",
       "    </tr>\n",
       "    <tr>\n",
       "      <th>2.75000</th>\n",
       "      <td>4.74000</td>\n",
       "      <td>4.63228</td>\n",
       "      <td>0.10772</td>\n",
       "    </tr>\n",
       "    <tr>\n",
       "      <th>3.25000</th>\n",
       "      <td>5.44000</td>\n",
       "      <td>5.77263</td>\n",
       "      <td>0.33263</td>\n",
       "    </tr>\n",
       "    <tr>\n",
       "      <th>3.75000</th>\n",
       "      <td>6.14000</td>\n",
       "      <td>6.25469</td>\n",
       "      <td>0.11469</td>\n",
       "    </tr>\n",
       "    <tr>\n",
       "      <th>4.25000</th>\n",
       "      <td>6.84000</td>\n",
       "      <td>6.60862</td>\n",
       "      <td>0.23138</td>\n",
       "    </tr>\n",
       "    <tr>\n",
       "      <th>4.75000</th>\n",
       "      <td>7.54000</td>\n",
       "      <td>7.18777</td>\n",
       "      <td>0.35223</td>\n",
       "    </tr>\n",
       "    <tr>\n",
       "      <th>5.25000</th>\n",
       "      <td>8.24000</td>\n",
       "      <td>nan</td>\n",
       "      <td>nan</td>\n",
       "    </tr>\n",
       "  </tbody>\n",
       "</table>\n",
       "</div>"
      ],
      "text/plain": [
       "           y(x)    S(x)       e\n",
       "x                              \n",
       "1.25000 2.64000 2.90007 0.26007\n",
       "1.75000 3.34000 3.53105 0.19105\n",
       "2.25000 4.04000 4.03448 0.00552\n",
       "2.75000 4.74000 4.63228 0.10772\n",
       "3.25000 5.44000 5.77263 0.33263\n",
       "3.75000 6.14000 6.25469 0.11469\n",
       "4.25000 6.84000 6.60862 0.23138\n",
       "4.75000 7.54000 7.18777 0.35223\n",
       "5.25000 8.24000     nan     nan"
      ]
     },
     "execution_count": 90,
     "metadata": {},
     "output_type": "execute_result"
    }
   ],
   "source": [
    "df"
   ]
  },
  {
   "cell_type": "code",
   "execution_count": 13,
   "id": "377157df",
   "metadata": {},
   "outputs": [],
   "source": [
    "e = compute_sqrt_error(f(spline_xs), spline_ys)"
   ]
  },
  {
   "cell_type": "code",
   "execution_count": 13,
   "id": "69144f4b",
   "metadata": {},
   "outputs": [
    {
     "data": {
      "text/plain": [
       "9.036089246341936"
      ]
     },
     "execution_count": 13,
     "metadata": {},
     "output_type": "execute_result"
    }
   ],
   "source": [
    "e"
   ]
  },
  {
   "cell_type": "code",
   "execution_count": 14,
   "id": "6a9f0fe4",
   "metadata": {},
   "outputs": [],
   "source": [
    "e_norm = compute_sqrt_error(f(spline_xs), spline_ys, normalize=True)"
   ]
  },
  {
   "cell_type": "code",
   "execution_count": 15,
   "id": "b95b60c0",
   "metadata": {},
   "outputs": [
    {
     "data": {
      "text/plain": [
       "0.28574623158994833"
      ]
     },
     "execution_count": 15,
     "metadata": {},
     "output_type": "execute_result"
    }
   ],
   "source": [
    "e_norm"
   ]
  },
  {
   "cell_type": "code",
   "execution_count": null,
   "id": "1db67b6b",
   "metadata": {},
   "outputs": [],
   "source": []
  }
 ],
 "metadata": {
  "kernelspec": {
   "display_name": "Python 3",
   "language": "python",
   "name": "python3"
  },
  "language_info": {
   "codemirror_mode": {
    "name": "ipython",
    "version": 3
   },
   "file_extension": ".py",
   "mimetype": "text/x-python",
   "name": "python",
   "nbconvert_exporter": "python",
   "pygments_lexer": "ipython3",
   "version": "3.7.10"
  }
 },
 "nbformat": 4,
 "nbformat_minor": 5
}
