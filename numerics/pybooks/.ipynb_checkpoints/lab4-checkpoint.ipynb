{
 "cells": [
  {
   "cell_type": "code",
   "execution_count": 1,
   "id": "11e35571",
   "metadata": {},
   "outputs": [],
   "source": [
    "import numpy as np\n",
    "import matplotlib.pyplot as plt"
   ]
  },
  {
   "cell_type": "code",
   "execution_count": 2,
   "id": "d403d97d",
   "metadata": {},
   "outputs": [],
   "source": [
    "def f(x):\n",
    "    return np.exp(-x/2) * x * x"
   ]
  },
  {
   "cell_type": "code",
   "execution_count": 3,
   "id": "ee0791bb",
   "metadata": {},
   "outputs": [],
   "source": [
    "value = 16 - 40/np.e"
   ]
  },
  {
   "cell_type": "code",
   "execution_count": 4,
   "id": "da4a2627",
   "metadata": {},
   "outputs": [
    {
     "data": {
      "text/plain": [
       "1.2848223531423066"
      ]
     },
     "execution_count": 4,
     "metadata": {},
     "output_type": "execute_result"
    }
   ],
   "source": [
    "value"
   ]
  },
  {
   "cell_type": "code",
   "execution_count": 5,
   "id": "35c08d90",
   "metadata": {},
   "outputs": [],
   "source": [
    "def rect_calc(a, b, f, n):\n",
    "    xs = np.linspace(a, b, n+1)\n",
    "    h = (b-a)/n\n",
    "    I = 0\n",
    "    for x in xs[:-1]:\n",
    "        I += f(x + h/2)\n",
    "    I *= h\n",
    "    return I"
   ]
  },
  {
   "cell_type": "code",
   "execution_count": 6,
   "id": "81e7ae1b",
   "metadata": {},
   "outputs": [
    {
     "data": {
      "text/plain": [
       "1.2829196671435183"
      ]
     },
     "execution_count": 6,
     "metadata": {},
     "output_type": "execute_result"
    }
   ],
   "source": [
    "rect_calc(a=0, b=2, f=f, n=8)"
   ]
  },
  {
   "cell_type": "code",
   "execution_count": 7,
   "id": "e5cfab19",
   "metadata": {},
   "outputs": [],
   "source": [
    "def simpson_calc(a, b, f, n):\n",
    "    assert n % 2 != 1, 'N must be even'\n",
    "    xs = np.linspace(a, b, n+1)\n",
    "    h = (b-a)/n\n",
    "    ys = f(xs)\n",
    "    I = ys[0] + ys[-1]\n",
    "    I += 4 * sum([ys[i] for i in range(1, n, 2)])\n",
    "    I += 2 * sum([ys[i] for i in range(2, n-1, 2)])\n",
    "    I *= h/3\n",
    "    return I"
   ]
  },
  {
   "cell_type": "code",
   "execution_count": 8,
   "id": "f5e13378",
   "metadata": {},
   "outputs": [
    {
     "data": {
      "text/plain": [
       "1.2848261676413844"
      ]
     },
     "execution_count": 8,
     "metadata": {},
     "output_type": "execute_result"
    }
   ],
   "source": [
    "simpson_calc(a=0, b=2, f=f, n=16)"
   ]
  },
  {
   "cell_type": "code",
   "execution_count": 9,
   "id": "97b39a68",
   "metadata": {},
   "outputs": [],
   "source": [
    "def trapezoid_calc(a, b, f, n):\n",
    "    xs = np.linspace(a, b, n+1)\n",
    "    h = (b-a)/n\n",
    "    ys = f(xs)\n",
    "    I = (f(a) + f(b))/ 2\n",
    "    I += sum(ys[1:-1])\n",
    "    I *= h\n",
    "    return I"
   ]
  },
  {
   "cell_type": "code",
   "execution_count": 10,
   "id": "45d6b97e",
   "metadata": {},
   "outputs": [],
   "source": [
    "def monte_carlo_calc(a, b, f, n):    \n",
    "    K = 0\n",
    "    fmax = f(b)\n",
    "    r1 = np.random.uniform(a, b, n)\n",
    "    r2 = np.random.uniform(0, fmax, n)\n",
    "    for x, y in zip(r1, r2):\n",
    "        if f(x) > y:\n",
    "            K += 1\n",
    "    return K/n * fmax * (b-a)\n",
    "    "
   ]
  },
  {
   "cell_type": "code",
   "execution_count": 11,
   "id": "a265b12b",
   "metadata": {},
   "outputs": [
    {
     "data": {
      "text/plain": [
       "[<matplotlib.lines.Line2D at 0x10dc4a590>]"
      ]
     },
     "execution_count": 11,
     "metadata": {},
     "output_type": "execute_result"
    },
    {
     "data": {
      "image/png": "[encoded data removed]",
      "text/plain": [
       "<Figure size 432x288 with 1 Axes>"
      ]
     },
     "metadata": {
      "needs_background": "light"
     },
     "output_type": "display_data"
    }
   ],
   "source": [
    "a = 0\n",
    "b = 2\n",
    "n = 1000\n",
    "xs = np.random.uniform(a, b, n)\n",
    "fmax = np.e\n",
    "ys = np.random.uniform(0, fmax, n)\n",
    "plt.plot(xs, ys, '.')\n",
    "x = np.linspace(a, b, 1000)\n",
    "plt.plot(x, f(x))"
   ]
  },
  {
   "cell_type": "code",
   "execution_count": 19,
   "id": "9441c3a9",
   "metadata": {
    "scrolled": false
   },
   "outputs": [
    {
     "name": "stdout",
     "output_type": "stream",
     "text": [
      "искомое значение: 1.2848223531423066\n",
      "\n",
      "монте карло: 1.3361381303346787\n",
      "\n",
      "шаг\tприбл. знач.\t\tошибка\t\tR\t\tуточ. знач.\tновая ошибка\n",
      "2\n",
      "прям.:\t1.25752494\t\t0.02729741\t0.00661539\t1.26414033\t0.02068203\n",
      "трап.:\t1.34228954\t\t0.05746719\t-0.01412743\t1.32816211\t0.04333976\n",
      "Симпс.:\t1.29921347\t\t0.01439111\t-0.00089558\t1.29831789\t0.01349554\n",
      "\n",
      "\n",
      "\n",
      "4\n",
      "прям.:\t1.2773711\t\t0.00745126\t0.00184952\t1.27922062\t0.00560173\n",
      "трап.:\t1.29990724\t\t0.01508489\t-0.00375602\t1.29615122\t0.01132886\n",
      "Симпс.:\t1.28577981\t\t0.00095745\t-5.978e-05\t1.28572003\t0.00089768\n",
      "\n",
      "\n",
      "\n",
      "8\n",
      "трап.:\t1.28863917\t\t0.00381682\t-0.00095325\t1.28768592\t0.00286357\n",
      "\n",
      "\n",
      "\n"
     ]
    }
   ],
   "source": [
    "#variant 8 \n",
    "# def f(x):\n",
    "#     return x*x*np.exp(-x/2)\n",
    "\n",
    "a = 0\n",
    "b = 2\n",
    "precision = 8\n",
    "f = f\n",
    "target_value = 16 - 40/np.e\n",
    "eps = 0.01\n",
    "\n",
    "print(f'искомое значение: {target_value}\\n')\n",
    "print(f'монте карло: {monte_carlo_calc(a, b, f, 1000)}\\n')\n",
    "print('шаг\\tприбл. знач.\\t\\tошибка\\t\\tR\\t\\tуточ. знач.\\tновая ошибка')\n",
    "used = set()\n",
    "for power in range(1, 6):\n",
    "    if len(used) == 3:\n",
    "        break\n",
    "    n = 2 ** power\n",
    "    print(n)\n",
    "    for name, func in zip(\n",
    "        ['прям.', 'трап.', 'Симпс.'],\n",
    "        [rect_calc, trapezoid_calc, simpson_calc]\n",
    "    ):\n",
    "        if name in used:\n",
    "            continue\n",
    "        value = func(a, b, f, n)\n",
    "        next_value = func(a, b, f, n * 2)\n",
    "        if name == 'Симпс.':\n",
    "            k = 4\n",
    "        else:\n",
    "            k = 2\n",
    "        R = (next_value - value) / (2**k - 1)\n",
    "        abs_error = round(abs(target_value-value), precision)\n",
    "        abs_error_r = round(abs(target_value-value-R), precision)\n",
    "        R = round(R, precision)\n",
    "        value = round(value, precision)\n",
    "        value_r = round(value + R, precision)\n",
    "        \n",
    "        print(f'{name}:\\t{value}\\t\\t{abs_error}\\t{R}\\t{value_r}\\t{abs_error_r}')\n",
    "        if abs_error < eps:\n",
    "            used.add(name)\n",
    "    print('\\n\\n')\n",
    "    "
   ]
  },
  {
   "cell_type": "code",
   "execution_count": null,
   "id": "cbb7e982",
   "metadata": {},
   "outputs": [],
   "source": []
  },
  {
   "cell_type": "code",
   "execution_count": null,
   "id": "b8771aec",
   "metadata": {},
   "outputs": [],
   "source": []
  }
 ],
 "metadata": {
  "kernelspec": {
   "display_name": "Python 3",
   "language": "python",
   "name": "python3"
  },
  "language_info": {
   "codemirror_mode": {
    "name": "ipython",
    "version": 3
   },
   "file_extension": ".py",
   "mimetype": "text/x-python",
   "name": "python",
   "nbconvert_exporter": "python",
   "pygments_lexer": "ipython3",
   "version": "3.7.10"
  }
 },
 "nbformat": 4,
 "nbformat_minor": 5
}
