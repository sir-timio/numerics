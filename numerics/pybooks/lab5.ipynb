{
 "cells": [
  {
   "cell_type": "code",
   "execution_count": 1,
   "id": "b320183c",
   "metadata": {},
   "outputs": [],
   "source": [
    "from numpy import exp"
   ]
  },
  {
   "cell_type": "code",
   "execution_count": 2,
   "id": "b242eb6a",
   "metadata": {},
   "outputs": [],
   "source": [
    "import numpy as np\n",
    "from copy import deepcopy\n",
    "def solve_matrix(a, b, c, d):\n",
    "    can_solve = True\n",
    "    n = len(a)\n",
    "\n",
    "    c = c.copy()\n",
    "    b = b.copy()\n",
    "    a = a.copy()\n",
    "    d = d.copy()\n",
    "        \n",
    "    for i in range(1, n-1):\n",
    "        if abs(b[i]) < abs(a[i] + c[i-1]):\n",
    "            can_solve = False\n",
    "            break\n",
    "        if abs(c[i]/b[i]) > 1:\n",
    "            can_solve = False\n",
    "            break\n",
    "        if abs(a[i+1] / c[i]) > 1:\n",
    "            can_solve = False\n",
    "            break\n",
    "    if not can_solve:\n",
    "        print('incorrect system')\n",
    "        return None\n",
    "\n",
    "    x = np.zeros(n)\n",
    "    \n",
    "    alpha =  np.zeros(n)\n",
    "    beta = np.zeros(n)\n",
    "    \n",
    "    alpha[0] = -c[0] / b[0]\n",
    "    beta[0] = d[0] / b[0]\n",
    "    \n",
    "    for i in range(1, n):\n",
    "        alpha[i] = -c[i] / (a[i-1] * alpha[i-1] + b[i])\n",
    "        beta[i] = (d[i] - a[i-1] * beta[i-1]) / (a[i-1] * alpha[i-1] + b[i])\n",
    "    \n",
    "    x[n-1] = beta[n-1]\n",
    "    \n",
    "    for i in range(n-2, -1, -1):\n",
    "        x[i] = alpha[i] * x[i+1] + beta[i]\n",
    "    return x"
   ]
  },
  {
   "cell_type": "code",
   "execution_count": 3,
   "id": "1452abdd",
   "metadata": {},
   "outputs": [],
   "source": [
    "def calc_f(n):\n",
    "    f = []\n",
    "    p = [1] * n\n",
    "    q = [-1] * n\n",
    "    xs = np.linspace(0, 1, n)\n",
    "    h = xs[1]-xs[0]\n",
    "    for x in xs:\n",
    "        y = exp(x)\n",
    "        dy = (exp(x+h) - exp(x-h)) / (2*h)\n",
    "        ddy = (exp(x+h) - 2*exp(x) + exp(x-h)) / (h*h)\n",
    "        f.append(ddy + dy - y)\n",
    "    return p, q, f"
   ]
  },
  {
   "cell_type": "code",
   "execution_count": 4,
   "id": "4cc71127",
   "metadata": {},
   "outputs": [],
   "source": [
    "def solve(n):\n",
    "    xs = np.linspace(0, 1, n)\n",
    "    h = xs[1]-xs[0]\n",
    "    p, q, f = calc_f(n)\n",
    "    \n",
    "    y_a = 1\n",
    "    y_b = np.e\n",
    "    \n",
    "    a = np.zeros(n)\n",
    "    b = np.zeros(n)\n",
    "    c = np.zeros(n)\n",
    "    d = np.zeros(n)\n",
    "    \n",
    "    for i in range(1, n-1):\n",
    "        a[i] = 1 - p[i]*h/2\n",
    "        b[i] = q[i]*h*h - 2\n",
    "        c[i] = 1 + p[i+1]*h/2\n",
    "        d[i] = f[i]*h*h\n",
    "    \n",
    "    a[0] = 1\n",
    "    b[0] = q[1]*h*h-2\n",
    "    c[0] = 1 + p[1]*h/2\n",
    "    d[0] = f[1]*h*h - y_a*(1 - p[1]*h/2)\n",
    "    \n",
    "    a[-1] = 1 - p[-2]*h/2\n",
    "    b[-1] = q[-2]*h*h - 2\n",
    "    c[-1] = 0\n",
    "    d[-1] = f[-2]*h*h - y_b*(1 + p[-2]*h/2)\n",
    "    \n",
    "    e = solve_matrix(a, b, c, d)\n",
    "    e = np.insert(e, 0, y_a)\n",
    "    e = np.append(e, y_b)\n",
    "    return e"
   ]
  },
  {
   "cell_type": "code",
   "execution_count": 5,
   "id": "ee0e78fe",
   "metadata": {},
   "outputs": [
    {
     "name": "stdout",
     "output_type": "stream",
     "text": [
      "yi: 1.0\ty*i: 1.0\td: 0.0\n",
      "yi: 1.09517\ty*i: 1.09543\td: 0.00025999999999992696\n",
      "yi: 1.1994\ty*i: 1.20674\td: 0.007339999999999902\n",
      "yi: 1.31354\ty*i: 1.2759\td: 0.037639999999999896\n",
      "yi: 1.43855\ty*i: 1.36735\td: 0.07119999999999993\n",
      "yi: 1.57546\ty*i: 1.48155\td: 0.09391000000000016\n",
      "yi: 1.72539\ty*i: 1.61935\td: 0.10603999999999991\n",
      "yi: 1.8896\ty*i: 1.78203\td: 0.10756999999999994\n",
      "yi: 2.06943\ty*i: 1.97128\td: 0.09815000000000018\n",
      "yi: 2.26638\ty*i: 2.1892\td: 0.0771799999999998\n",
      "yi: 2.48207\ty*i: 2.43833\td: 0.04374000000000011\n",
      "yi: 2.71828\ty*i: 2.71828\td: 0.0\n"
     ]
    }
   ],
   "source": [
    "n = 10\n",
    "e = solve(n)\n",
    "precision = 5\n",
    "h = 1/(len(e)-1)\n",
    "for i, res in enumerate(e):\n",
    "    xi = i*h\n",
    "    yi = round(exp(xi), precision)\n",
    "    y_pred_i = round(res, precision)\n",
    "    delta = abs(yi - y_pred_i)\n",
    "\n",
    "    print(f'yi: {yi}\\ty*i: {y_pred_i}\\td: {delta}')"
   ]
  },
  {
   "cell_type": "code",
   "execution_count": null,
   "id": "29b34cef",
   "metadata": {},
   "outputs": [],
   "source": []
  }
 ],
 "metadata": {
  "kernelspec": {
   "display_name": "Python 3",
   "language": "python",
   "name": "python3"
  },
  "language_info": {
   "codemirror_mode": {
    "name": "ipython",
    "version": 3
   },
   "file_extension": ".py",
   "mimetype": "text/x-python",
   "name": "python",
   "nbconvert_exporter": "python",
   "pygments_lexer": "ipython3",
   "version": "3.7.10"
  }
 },
 "nbformat": 4,
 "nbformat_minor": 5
}
